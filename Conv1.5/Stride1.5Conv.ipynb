{
 "cells": [
  {
   "cell_type": "code",
   "execution_count": 2,
   "metadata": {},
   "outputs": [],
   "source": [
    "import torch\n",
    "import torch.nn as nn\n",
    "import time"
   ]
  },
  {
   "cell_type": "code",
   "execution_count": 3,
   "metadata": {},
   "outputs": [],
   "source": [
    "device = torch.device('cpu')"
   ]
  },
  {
   "cell_type": "markdown",
   "metadata": {},
   "source": [
    "## Dilated convolutions on an intermediate map is effectively the same as convolution with stride = 1.5\n",
    "It is likely this makes backpropagation slower because of the extra operations for processing  the original matrix"
   ]
  },
  {
   "cell_type": "markdown",
   "metadata": {},
   "source": [
    "Only even multiples of 1.5 end in integers. So filters must convolve odd(1(zero indexed position) + even times across height & width) times along height and width  \n",
    "Along output map HxW(1-indexed):  \n",
    "If index H or W == even, outmap will contain combined pixel pairs +1  \n",
    "i.e (1,1) 0 pair(raw input)  \n",
    "    (1,2) 1 pair(along 2nd dimension)  \n",
    "    (2,2) 2 pairs(along both dimensions)  "
   ]
  },
  {
   "cell_type": "markdown",
   "metadata": {},
   "source": [
    "\\begin{align}\n",
    "\\frac{3n-3}{1.5} + 1  \\\\\n",
    "= \\frac {3(n-1)}{0.5(3)} + 1  \\\\\n",
    "= 2(n-1)+1 \\\\\n",
    "= 2n-2+1 \\\\\n",
    "= 2n-1 \n",
    "\\end{align}"
   ]
  },
  {
   "cell_type": "markdown",
   "metadata": {},
   "source": [
    "#### For all integers n > 0, 2n-1 always gives positive odd numbers(for H ^ W), where stride = 1.5 and filter size = 3 and input size is multiple of 3\n",
    "#### But not all odd numbers are multiples of 3.. :("
   ]
  },
  {
   "cell_type": "markdown",
   "metadata": {},
   "source": [
    "### Make cheaper one\n",
    "The output from better_compute is meant to run with dilated convolution, dilation = 1\n",
    "Refer to ** https://ezyang.github.io/convolution-visualizer/index.html ** for visualization\n",
    "The output from better_compute passed into a convolution layer with kernel size 3, dilation 2, stride 3, is equivalent to a stride 1.5 convolution with kernel size 3 on the input into better_compute\n",
    "\n",
    "Based on observation\n",
    "1. Insert empty columns inbetween, calculate value from adjacent left and right values\n",
    "2. Insert empty rows inbetween, calculate values from adjacent top and bottom values\n",
    "**\n",
    "3. Run dilated convolution on this new feature map, equiv to stride 1.5 conv"
   ]
  },
  {
   "cell_type": "markdown",
   "metadata": {},
   "source": [
    "### Final version. Decent speed for forward and backward prop"
   ]
  },
  {
   "cell_type": "code",
   "execution_count": 4,
   "metadata": {},
   "outputs": [],
   "source": [
    "def better_compute3(input_mtx,filtersize = 3):\n",
    "    #use with dilated convolution\n",
    "    #used to output intermediate, then convolve with dilated convolution to effect stride 1.5 on input\n",
    "    stride=1.5 # algorithm only works for stride value 1.5\n",
    "\n",
    "    assert input_mtx.dim()==4,\\\n",
    "    \"Input tensor dimension is %dD instead of 4D\" %input_mtx.dim()\n",
    "  \n",
    "    batchsize = input_mtx.size()[0]\n",
    "    channels = input_mtx.size()[1]\n",
    "    input_rows = input_mtx.size()[2] #height\n",
    "    input_cols = input_mtx.size()[3] #width\n",
    "    \n",
    "    rows = ((input_rows-filtersize)/stride)+1 #output H dimension\n",
    "    columns = ((input_cols-filtersize)/stride)+1 #output W dimension\n",
    "    assert rows%1 == 0 and columns%1 ==0,\\\n",
    "    \"Invalid output HxW dimension, current output dimension for HxW is %f x %f\" %(rows,columns) #safety check\n",
    "    \n",
    "    new_rows = (2*input_rows)-1 #itm H dimension\n",
    "    new_cols =  (2*input_cols)-1 #itm W dimension\n",
    "    \n",
    "    itm1 = torch.zeros(input_rows,new_cols,device=device,requires_grad=False)\n",
    "    itm2 = torch.zeros(new_rows,new_cols,device=device,requires_grad=False)\n",
    "    output2 = torch.zeros(batchsize,channels,new_rows,new_cols,device=device,requires_grad=False)\n",
    "    \n",
    "    for batch in range(batchsize):\n",
    "        for chl in range(channels):\n",
    "            itm1[:,::2] = input_mtx[batch][chl][:,::1] #fill in alternating columns\n",
    "            itm1[:,1:-1:2] = (itm1[:,0:-1:2] +itm1[:,2:new_rows:2])/2     #calculate inbetween column values\n",
    "            itm2[::2,:] = itm1[::1,:] #fill in alternating rows\n",
    "            itm2[1:-1:2,:] = (itm2[0:-1:2,:] + itm2[2:new_cols:2,:])/2 #calculate inbetween row values\n",
    "            output2[batch][chl] = itm2\n",
    "        \n",
    "    return output2\n",
    "    \n",
    "    "
   ]
  }
 ],
 "metadata": {
  "kernelspec": {
   "display_name": "Python 3",
   "language": "python",
   "name": "python3"
  },
  "language_info": {
   "codemirror_mode": {
    "name": "ipython",
    "version": 3
   },
   "file_extension": ".py",
   "mimetype": "text/x-python",
   "name": "python",
   "nbconvert_exporter": "python",
   "pygments_lexer": "ipython3",
   "version": "3.7.1"
  }
 },
 "nbformat": 4,
 "nbformat_minor": 2
}
