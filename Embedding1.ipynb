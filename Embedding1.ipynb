{
 "cells": [
  {
   "cell_type": "code",
   "execution_count": 1,
   "metadata": {},
   "outputs": [],
   "source": [
    "import torch\n",
    "import pandas as pd\n",
    "from tqdm import tqdm\n",
    "import os\n",
    "tqdm.pandas()\n",
    "import sys"
   ]
  },
  {
   "cell_type": "markdown",
   "metadata": {},
   "source": [
    "Based on https://www.kaggle.com/christofhenkel/how-to-preprocessing-when-using-embeddings/notebook"
   ]
  },
  {
   "cell_type": "code",
   "execution_count": 2,
   "metadata": {},
   "outputs": [],
   "source": [
    "base = os.getcwd()"
   ]
  },
  {
   "cell_type": "code",
   "execution_count": 3,
   "metadata": {},
   "outputs": [],
   "source": [
    "embedding = os.path.join(base,'Base','glove.840B.300d','glove.840B.300d.txt')"
   ]
  },
  {
   "cell_type": "code",
   "execution_count": 4,
   "metadata": {},
   "outputs": [],
   "source": [
    "trainfile = os.path.join(base,'Base','train.csv')\n",
    "train = pd.read_csv(trainfile)"
   ]
  },
  {
   "cell_type": "code",
   "execution_count": 6,
   "metadata": {},
   "outputs": [
    {
     "data": {
      "text/plain": [
       "(1306122, 3)"
      ]
     },
     "execution_count": 6,
     "metadata": {},
     "output_type": "execute_result"
    }
   ],
   "source": [
    "train.shape"
   ]
  },
  {
   "cell_type": "code",
   "execution_count": 5,
   "metadata": {},
   "outputs": [],
   "source": [
    "def build_vocab(sentences, verbose =  True):\n",
    "    \"\"\"\n",
    "    :param sentences: list of list of words\n",
    "    :return: dictionary of words and their count\n",
    "    \"\"\"\n",
    "    vocab = {}\n",
    "    for sentence in tqdm(sentences, disable = (not verbose)):\n",
    "        for word in sentence:\n",
    "            try:\n",
    "                vocab[word] += 1\n",
    "            except KeyError:\n",
    "                vocab[word] = 1\n",
    "    return vocab"
   ]
  },
  {
   "cell_type": "code",
   "execution_count": 31,
   "metadata": {},
   "outputs": [
    {
     "name": "stderr",
     "output_type": "stream",
     "text": [
      "100%|██████████| 1306122/1306122 [00:02<00:00, 470579.53it/s]\n"
     ]
    }
   ],
   "source": [
    "sentences = train[\"question_text\"].progress_apply(lambda x: x.split()).values"
   ]
  },
  {
   "cell_type": "code",
   "execution_count": 32,
   "metadata": {},
   "outputs": [
    {
     "name": "stderr",
     "output_type": "stream",
     "text": [
      "100%|██████████| 1306122/1306122 [00:02<00:00, 461248.14it/s]\n"
     ]
    }
   ],
   "source": [
    "vocab = build_vocab(sentences)"
   ]
  },
  {
   "cell_type": "code",
   "execution_count": 42,
   "metadata": {},
   "outputs": [
    {
     "name": "stderr",
     "output_type": "stream",
     "text": [
      "C:\\Users\\Bingrong\\Anaconda3\\lib\\site-packages\\gensim\\utils.py:1197: UserWarning: detected Windows; aliasing chunkize to chunkize_serial\n",
      "  warnings.warn(\"detected Windows; aliasing chunkize to chunkize_serial\")\n"
     ]
    }
   ],
   "source": [
    "from gensim.models import KeyedVectors\n",
    "from gensim.scripts.glove2word2vec import glove2word2vec"
   ]
  },
  {
   "cell_type": "code",
   "execution_count": 43,
   "metadata": {},
   "outputs": [
    {
     "data": {
      "text/plain": [
       "(2196017, 300)"
      ]
     },
     "execution_count": 43,
     "metadata": {},
     "output_type": "execute_result"
    }
   ],
   "source": [
    "glove2word2vec(embedding,\"glove.txt\")"
   ]
  },
  {
   "cell_type": "code",
   "execution_count": 44,
   "metadata": {},
   "outputs": [],
   "source": [
    "glove_embed = KeyedVectors.load_word2vec_format(\"glove.txt\",binary=False)"
   ]
  },
  {
   "cell_type": "code",
   "execution_count": 38,
   "metadata": {},
   "outputs": [],
   "source": [
    "import operator \n",
    "\n",
    "def check_coverage(vocab,embeddings_index):\n",
    "    a = {}\n",
    "    oov = {}\n",
    "    k = 0\n",
    "    i = 0\n",
    "    for word in tqdm(vocab): #if word from vocab in embedindex, assign to a and add to k\n",
    "        try:\n",
    "            a[word] = embeddings_index[word]\n",
    "            k += vocab[word] #vocab is a dictonary of word counts\n",
    "        except:# if word not in embed index, execute this loop\n",
    "\n",
    "            oov[word] = vocab[word]\n",
    "            i += vocab[word]\n",
    "            pass\n",
    "\n",
    "    print('Found embeddings for {:.2%} of vocab'.format(len(a) / len(vocab)))\n",
    "    print('Found embeddings for  {:.2%} of all text'.format(k / (k + i)))\n",
    "    sorted_x = sorted(oov.items(), key=operator.itemgetter(1))[::-1]\n",
    "\n",
    "    return sorted_x"
   ]
  },
  {
   "cell_type": "code",
   "execution_count": 65,
   "metadata": {},
   "outputs": [
    {
     "name": "stderr",
     "output_type": "stream",
     "text": [
      "100%|██████████| 508823/508823 [00:00<00:00, 567489.65it/s]\n"
     ]
    },
    {
     "name": "stdout",
     "output_type": "stream",
     "text": [
      "Found embeddings for 33.16% of vocab\n",
      "Found embeddings for  88.16% of all text\n"
     ]
    }
   ],
   "source": [
    "oov = check_coverage(vocab,glove_embed)"
   ]
  },
  {
   "cell_type": "code",
   "execution_count": 53,
   "metadata": {},
   "outputs": [],
   "source": [
    "def split_qmark(x): #need to insert space before question marks, else no embedding for word, took too long to this -_-\n",
    "    #the tqmd progress bar turns ugly.. prob cause of recursion\n",
    "    x = str(x)\n",
    "    if len(x.strip(' ')) ==0:\n",
    "        return x\n",
    "    pos = x[1:].find('?') +1\n",
    "    if pos == 0:\n",
    "        pass\n",
    "    else:\n",
    "        x = x[:pos] + \" \" + x[pos:]\n",
    "    if pos+1!= len(x)-1:\n",
    "        back = split_qmark(x[pos+1:])\n",
    "        x = x[:pos+1] + back\n",
    "    \n",
    "    \n",
    "    return x       \n",
    "        "
   ]
  },
  {
   "cell_type": "code",
   "execution_count": 52,
   "metadata": {},
   "outputs": [
    {
     "name": "stderr",
     "output_type": "stream",
     "text": [
      "\n",
      "\n",
      "  0%|          | 0/1306122 [00:00<?, ?it/s]\n",
      "\n",
      "  2%|▏         | 31359/1306122 [00:00<00:04, 310818.04it/s]\n",
      "\n",
      "  6%|▌         | 72048/1306122 [00:00<00:03, 333932.90it/s]\n",
      "\n",
      "  9%|▊         | 111355/1306122 [00:00<00:03, 347624.91it/s]\n",
      "\n",
      " 12%|█▏        | 152635/1306122 [00:00<00:03, 364327.96it/s]\n",
      "\n",
      " 15%|█▍        | 194965/1306122 [00:00<00:02, 379437.34it/s]\n",
      "\n",
      " 18%|█▊        | 236873/1306122 [00:00<00:02, 389722.56it/s]\n",
      "\n",
      " 21%|██▏       | 278794/1306122 [00:00<00:02, 397569.50it/s]\n",
      "\n",
      " 25%|██▍       | 320473/1306122 [00:00<00:02, 402290.90it/s]\n",
      "\n",
      " 28%|██▊       | 363404/1306122 [00:00<00:02, 409515.22it/s]\n",
      "\n",
      " 31%|███       | 403317/1306122 [00:01<00:02, 399893.77it/s]\n",
      "\n",
      " 34%|███▍      | 445075/1306122 [00:01<00:02, 404980.01it/s]\n",
      "\n",
      " 37%|███▋      | 488460/1306122 [00:01<00:01, 413084.82it/s]\n",
      "\n",
      " 41%|████      | 531727/1306122 [00:01<00:01, 418312.75it/s]\n",
      "\n",
      " 44%|████▍     | 574240/1306122 [00:01<00:01, 419128.91it/s]\n",
      "\n",
      " 47%|████▋     | 616027/1306122 [00:01<00:01, 407824.19it/s]\n",
      "\n",
      " 50%|█████     | 658422/1306122 [00:01<00:01, 411803.47it/s]\n",
      "\n",
      " 54%|█████▎    | 699597/1306122 [00:01<00:01, 402478.54it/s]\n",
      "\n",
      " 57%|█████▋    | 740730/1306122 [00:01<00:01, 404847.15it/s]\n",
      "\n",
      " 60%|██████    | 783791/1306122 [00:01<00:01, 411149.65it/s]\n",
      "\n",
      " 63%|██████▎   | 827954/1306122 [00:02<00:01, 419631.61it/s]\n",
      "\n",
      " 67%|██████▋   | 870598/1306122 [00:02<00:01, 420700.40it/s]\n",
      "\n",
      " 70%|██████▉   | 912722/1306122 [00:02<00:00, 420489.35it/s]\n",
      "\n",
      " 73%|███████▎  | 955797/1306122 [00:02<00:00, 422445.58it/s]\n",
      "\n",
      " 76%|███████▋  | 998912/1306122 [00:02<00:00, 415961.96it/s]\n",
      "\n",
      " 80%|███████▉  | 1040551/1306122 [00:02<00:00, 406625.11it/s]\n",
      "\n",
      " 83%|████████▎ | 1084646/1306122 [00:02<00:00, 415378.10it/s]\n",
      "\n",
      " 86%|████████▌ | 1126284/1306122 [00:02<00:00, 400999.94it/s]\n",
      "\n",
      " 89%|████████▉ | 1167546/1306122 [00:02<00:00, 403448.91it/s]\n",
      "\n",
      " 93%|█████████▎| 1209172/1306122 [00:02<00:00, 406327.14it/s]\n",
      "\n",
      " 96%|█████████▌| 1251334/1306122 [00:03<00:00, 410313.53it/s]\n",
      "\n",
      " 99%|█████████▉| 1294558/1306122 [00:03<00:00, 415822.98it/s]\n",
      "\n",
      "100%|██████████| 1306122/1306122 [00:03<00:00, 407438.72it/s]"
     ]
    }
   ],
   "source": [
    "train[\"question_text\"] = train[\"question_text\"].progress_apply(lambda x: split_qmark(x))"
   ]
  },
  {
   "cell_type": "code",
   "execution_count": 37,
   "metadata": {},
   "outputs": [],
   "source": [
    "sentences = train[\"question_text\"].apply(lambda x: x.split())"
   ]
  },
  {
   "cell_type": "code",
   "execution_count": 39,
   "metadata": {},
   "outputs": [
    {
     "name": "stderr",
     "output_type": "stream",
     "text": [
      "\n",
      "\n",
      "  0%|          | 0/1306122 [00:00<?, ?it/s]\n",
      "\n",
      "  3%|▎         | 38456/1306122 [00:00<00:03, 381027.44it/s]\n",
      "\n",
      "  7%|▋         | 87159/1306122 [00:00<00:02, 406898.68it/s]\n",
      "\n",
      " 10%|█         | 134821/1306122 [00:00<00:02, 424743.39it/s]\n",
      "\n",
      " 14%|█▍        | 183094/1306122 [00:00<00:02, 439740.11it/s]\n",
      "\n",
      " 18%|█▊        | 231298/1306122 [00:00<00:02, 451237.42it/s]\n",
      "\n",
      " 21%|██▏       | 279416/1306122 [00:00<00:02, 458820.56it/s]\n",
      "\n",
      " 25%|██▍       | 325428/1306122 [00:00<00:02, 458207.89it/s]\n",
      "\n",
      " 29%|██▊       | 373033/1306122 [00:00<00:02, 462431.43it/s]\n",
      "\n",
      " 32%|███▏      | 420702/1306122 [00:00<00:01, 465573.05it/s]\n",
      "\n",
      " 36%|███▌      | 468954/1306122 [00:01<00:01, 470102.06it/s]\n",
      "\n",
      " 40%|███▉      | 516693/1306122 [00:01<00:01, 471850.44it/s]\n",
      "\n",
      " 43%|████▎     | 564085/1306122 [00:01<00:01, 472057.20it/s]\n",
      "\n",
      " 47%|████▋     | 611456/1306122 [00:01<00:01, 471519.45it/s]\n",
      "\n",
      " 50%|█████     | 658644/1306122 [00:01<00:01, 470597.58it/s]\n",
      "\n",
      " 54%|█████▍    | 706699/1306122 [00:01<00:01, 472511.14it/s]\n",
      "\n",
      " 58%|█████▊    | 754530/1306122 [00:01<00:01, 473213.58it/s]\n",
      "\n",
      " 61%|██████▏   | 801739/1306122 [00:01<00:01, 470840.28it/s]\n",
      "\n",
      " 65%|██████▍   | 848747/1306122 [00:01<00:00, 469580.46it/s]\n",
      "\n",
      " 69%|██████▊   | 895653/1306122 [00:01<00:00, 468397.36it/s]\n",
      "\n",
      " 72%|███████▏  | 942457/1306122 [00:02<00:00, 452400.65it/s]\n",
      "\n",
      " 76%|███████▌  | 988588/1306122 [00:02<00:00, 454636.93it/s]\n",
      "\n",
      " 79%|███████▉  | 1036117/1306122 [00:02<00:00, 459624.04it/s]\n",
      "\n",
      " 83%|████████▎ | 1082140/1306122 [00:02<00:00, 458766.24it/s]\n",
      "\n",
      " 86%|████████▋ | 1128060/1306122 [00:02<00:00, 451159.45it/s]\n",
      "\n",
      " 90%|████████▉ | 1173235/1306122 [00:02<00:00, 442396.54it/s]\n",
      "\n",
      " 93%|█████████▎| 1217554/1306122 [00:02<00:00, 440929.72it/s]\n",
      "\n",
      " 97%|█████████▋| 1262636/1306122 [00:02<00:00, 442875.84it/s]\n",
      "\n",
      "100%|██████████| 1306122/1306122 [00:02<00:00, 457671.87it/s]"
     ]
    }
   ],
   "source": [
    "vocab = build_vocab(sentences)"
   ]
  },
  {
   "cell_type": "code",
   "execution_count": 45,
   "metadata": {},
   "outputs": [
    {
     "name": "stderr",
     "output_type": "stream",
     "text": [
      "\n",
      "\n",
      "  0%|          | 0/435932 [00:00<?, ?it/s]\n",
      "\n",
      " 12%|█▏        | 52470/435932 [00:00<00:00, 520342.29it/s]\n",
      "\n",
      " 24%|██▍       | 104993/435932 [00:00<00:00, 520620.16it/s]\n",
      "\n",
      " 36%|███▌      | 157151/435932 [00:00<00:00, 520280.54it/s]\n",
      "\n",
      " 48%|████▊     | 210455/435932 [00:00<00:00, 523092.71it/s]\n",
      "\n",
      " 61%|██████    | 265072/435932 [00:00<00:00, 529156.97it/s]\n",
      "\n",
      " 73%|███████▎  | 319648/435932 [00:00<00:00, 533779.56it/s]\n",
      "\n",
      " 86%|████████▌ | 372839/435932 [00:00<00:00, 532201.66it/s]\n",
      "\n",
      " 98%|█████████▊| 427300/435932 [00:00<00:00, 535223.06it/s]\n",
      "\n",
      "100%|██████████| 435932/435932 [00:00<00:00, 530852.23it/s]"
     ]
    },
    {
     "name": "stdout",
     "output_type": "stream",
     "text": [
      "Found embeddings for 43.05% of vocab\n",
      "Found embeddings for  96.33% of all text\n"
     ]
    }
   ],
   "source": [
    "oov = check_coverage(vocab,glove_embed)"
   ]
  },
  {
   "cell_type": "code",
   "execution_count": 49,
   "metadata": {},
   "outputs": [
    {
     "data": {
      "text/plain": [
       "[(\"What's\", 12427),\n",
       " ('so,', 2562),\n",
       " ('I’m', 2506),\n",
       " (\"you've\", 2418),\n",
       " (\"isn't\", 2335),\n",
       " ('\"The', 2239),\n",
       " ('don’t', 2127),\n",
       " (\"aren't\", 1798),\n",
       " ('What’s', 1688),\n",
       " (\"won't\", 1648)]"
      ]
     },
     "execution_count": 49,
     "metadata": {},
     "output_type": "execute_result"
    }
   ],
   "source": [
    "oov[:10]"
   ]
  },
  {
   "cell_type": "code",
   "execution_count": 178,
   "metadata": {},
   "outputs": [
    {
     "data": {
      "text/plain": [
       "'it ?'"
      ]
     },
     "execution_count": 178,
     "metadata": {},
     "output_type": "execute_result"
    }
   ],
   "source": [
    "split_qmark('it?')"
   ]
  },
  {
   "cell_type": "code",
   "execution_count": 181,
   "metadata": {},
   "outputs": [
    {
     "data": {
      "text/plain": [
       "False"
      ]
     },
     "execution_count": 181,
     "metadata": {},
     "output_type": "execute_result"
    }
   ],
   "source": [
    "'Why?' in glove_embed"
   ]
  },
  {
   "cell_type": "code",
   "execution_count": 184,
   "metadata": {},
   "outputs": [
    {
     "data": {
      "text/plain": [
       "'Why does velocity affect time ? Does velocity affect space geometry?'"
      ]
     },
     "execution_count": 184,
     "metadata": {},
     "output_type": "execute_result"
    }
   ],
   "source": [
    "train[\"question_text\"] [2]"
   ]
  },
  {
   "cell_type": "code",
   "execution_count": 2,
   "metadata": {},
   "outputs": [
    {
     "data": {
      "text/plain": [
       "15"
      ]
     },
     "execution_count": 2,
     "metadata": {},
     "output_type": "execute_result"
    }
   ],
   "source": [
    "text = 'what? is? this?'\n",
    "len(text)"
   ]
  },
  {
   "cell_type": "code",
   "execution_count": 188,
   "metadata": {},
   "outputs": [
    {
     "name": "stdout",
     "output_type": "stream",
     "text": [
      "4\n",
      "8\n",
      "14\n"
     ]
    }
   ],
   "source": [
    "listx=[]\n",
    "for idx,x in enumerate(text):\n",
    "    if x== '?':\n",
    "        print(idx)\n",
    "    "
   ]
  },
  {
   "cell_type": "code",
   "execution_count": 32,
   "metadata": {},
   "outputs": [],
   "source": [
    "def split_qmark(x):\n",
    "    if len(x.strip(' ')) ==0:\n",
    "        return x\n",
    "    x = str(x)\n",
    "    pos = x[1:].find('?') +1\n",
    "    if pos == 0:\n",
    "        pass\n",
    "    else:\n",
    "        x = x[:pos] + \" \" + x[pos:]\n",
    "    if pos+1!= len(x)-1:\n",
    "        back = split_qmark(x[pos+1:])\n",
    "        x = x[:pos+1] + back\n",
    "    \n",
    "    \n",
    "    return x   "
   ]
  },
  {
   "cell_type": "code",
   "execution_count": 48,
   "metadata": {},
   "outputs": [
    {
     "data": {
      "text/plain": [
       "'? ? ? ? ? ? ?! ?'"
      ]
     },
     "execution_count": 48,
     "metadata": {},
     "output_type": "execute_result"
    }
   ],
   "source": [
    "text2 = '???????!?'\n",
    "split_qmark(text2)\n"
   ]
  },
  {
   "cell_type": "code",
   "execution_count": 16,
   "metadata": {},
   "outputs": [
    {
     "data": {
      "text/plain": [
       "'Why does velocity affect time ? Does velocity affect space geometry ?'"
      ]
     },
     "execution_count": 16,
     "metadata": {},
     "output_type": "execute_result"
    }
   ],
   "source": [
    "split_qmark(train[\"question_text\"][2])"
   ]
  },
  {
   "cell_type": "code",
   "execution_count": 17,
   "metadata": {},
   "outputs": [
    {
     "data": {
      "text/plain": [
       "'what ? is ? this ?'"
      ]
     },
     "execution_count": 17,
     "metadata": {},
     "output_type": "execute_result"
    }
   ],
   "source": [
    "split_qmark(text)"
   ]
  },
  {
   "cell_type": "code",
   "execution_count": 194,
   "metadata": {},
   "outputs": [],
   "source": [
    "text2 = text[:4] + \" \" + text[4:]"
   ]
  },
  {
   "cell_type": "code",
   "execution_count": 13,
   "metadata": {},
   "outputs": [],
   "source": [
    "da = 'asd???asd??????????'"
   ]
  },
  {
   "cell_type": "code",
   "execution_count": 14,
   "metadata": {},
   "outputs": [
    {
     "data": {
      "text/plain": [
       "3"
      ]
     },
     "execution_count": 14,
     "metadata": {},
     "output_type": "execute_result"
    }
   ],
   "source": [
    "da.find('?')"
   ]
  },
  {
   "cell_type": "code",
   "execution_count": 203,
   "metadata": {},
   "outputs": [
    {
     "data": {
      "text/plain": [
       "' is? this?'"
      ]
     },
     "execution_count": 203,
     "metadata": {},
     "output_type": "execute_result"
    }
   ],
   "source": [
    "text[5:]"
   ]
  },
  {
   "cell_type": "code",
   "execution_count": 204,
   "metadata": {},
   "outputs": [
    {
     "data": {
      "text/plain": [
       "' '"
      ]
     },
     "execution_count": 204,
     "metadata": {},
     "output_type": "execute_result"
    }
   ],
   "source": [
    "text[5]"
   ]
  },
  {
   "cell_type": "code",
   "execution_count": 255,
   "metadata": {},
   "outputs": [
    {
     "name": "stdout",
     "output_type": "stream",
     "text": [
      "what?\n",
      "  is?\n",
      "  this?\n"
     ]
    },
    {
     "data": {
      "text/plain": [
       "'what  is  this '"
      ]
     },
     "execution_count": 255,
     "metadata": {},
     "output_type": "execute_result"
    }
   ],
   "source": [
    "split_qmark(text)"
   ]
  },
  {
   "cell_type": "code",
   "execution_count": 207,
   "metadata": {},
   "outputs": [
    {
     "data": {
      "text/plain": [
       "3"
      ]
     },
     "execution_count": 207,
     "metadata": {},
     "output_type": "execute_result"
    }
   ],
   "source": [
    "text[1:].find('?')"
   ]
  },
  {
   "cell_type": "code",
   "execution_count": 221,
   "metadata": {},
   "outputs": [
    {
     "data": {
      "text/plain": [
       "-1"
      ]
     },
     "execution_count": 221,
     "metadata": {},
     "output_type": "execute_result"
    }
   ],
   "source": [
    "text.find('asdada')"
   ]
  },
  {
   "cell_type": "code",
   "execution_count": 223,
   "metadata": {},
   "outputs": [
    {
     "data": {
      "text/plain": [
       "True"
      ]
     },
     "execution_count": 223,
     "metadata": {},
     "output_type": "execute_result"
    }
   ],
   "source": [
    "'?' in text"
   ]
  },
  {
   "cell_type": "code",
   "execution_count": 224,
   "metadata": {},
   "outputs": [
    {
     "ename": "ValueError",
     "evalue": "empty separator",
     "output_type": "error",
     "traceback": [
      "\u001b[1;31m---------------------------------------------------------------------------\u001b[0m",
      "\u001b[1;31mValueError\u001b[0m                                Traceback (most recent call last)",
      "\u001b[1;32m<ipython-input-224-71b1292c0439>\u001b[0m in \u001b[0;36m<module>\u001b[1;34m()\u001b[0m\n\u001b[1;32m----> 1\u001b[1;33m \u001b[0mtext\u001b[0m\u001b[1;33m.\u001b[0m\u001b[0msplit\u001b[0m\u001b[1;33m(\u001b[0m\u001b[1;34m''\u001b[0m\u001b[1;33m)\u001b[0m\u001b[1;33m\u001b[0m\u001b[0m\n\u001b[0m",
      "\u001b[1;31mValueError\u001b[0m: empty separator"
     ]
    }
   ],
   "source": []
  },
  {
   "cell_type": "code",
   "execution_count": null,
   "metadata": {},
   "outputs": [],
   "source": []
  }
 ],
 "metadata": {
  "kernelspec": {
   "display_name": "Python 3",
   "language": "python",
   "name": "python3"
  },
  "language_info": {
   "codemirror_mode": {
    "name": "ipython",
    "version": 3
   },
   "file_extension": ".py",
   "mimetype": "text/x-python",
   "name": "python",
   "nbconvert_exporter": "python",
   "pygments_lexer": "ipython3",
   "version": "3.7.0"
  }
 },
 "nbformat": 4,
 "nbformat_minor": 2
}
